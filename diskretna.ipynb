{
  "nbformat": 4,
  "nbformat_minor": 0,
  "metadata": {
    "colab": {
      "provenance": [],
      "authorship_tag": "ABX9TyNFELygvLGc3ar3fXAK8mF3",
      "include_colab_link": true
    },
    "kernelspec": {
      "name": "python3",
      "display_name": "Python 3"
    },
    "language_info": {
      "name": "python"
    }
  },
  "cells": [
    {
      "cell_type": "markdown",
      "metadata": {
        "id": "view-in-github",
        "colab_type": "text"
      },
      "source": [
        "<a href=\"https://colab.research.google.com/github/FarisKarkelja/Discrete-Mathematics/blob/main/diskretna.ipynb\" target=\"_parent\"><img src=\"https://colab.research.google.com/assets/colab-badge.svg\" alt=\"Open In Colab\"/></a>"
      ]
    },
    {
      "cell_type": "markdown",
      "source": [
        "### Tasks\n",
        "> Below, you have three tasks to solve. Each one of them includes a specific scenario of plotting the discrete function. You should solve the tasks by yourselves. It would be beneficial for you to use NumPy and matplotlib documentations, that you have linked above and other useful online resources, instead of jumping straight to the AI tools :)\n",
        "\n",
        "**Task 1:** In this task, we explore the scenario of tracking daily weather conditions by recording the number of rainy days for each month over a four-month period. This task tries to visualize the distribution of rainy days using matplotlib, which effectively highlights the proportion of rainy days relative to the total for each month. To begin, we collect the data for the number of rainy days in January, February, March, and April, storing these values in a NumPy array for efficient manipulation. We then use Matplotlib to create a chart, which visually represents the data, allowing us to easily see which month experienced the most rainfall. Each part of the graph should correspond to a month.\n",
        "\n",
        "**Task 2**: In this task, we will focus on tracking daily step counts over the course of a month, providing insights into physical activity levels. The goal is to visualize this data, which will effectively illustrate trends and variations in step counts over time. To start, we should simulate daily step data for a 30-day period, organizing the values in a NumPy array.\n",
        "\n",
        "**Task 3**: Create a plot to visualize a discrete sine wave defined as\n",
        "$ f(n) = \\sin(n) $,  for $ n $ from $ 0 $ to $ 2π $.\n"
      ],
      "metadata": {
        "id": "0dEdERekQeeG"
      }
    }
  ]
}